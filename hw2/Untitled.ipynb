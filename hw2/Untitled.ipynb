{
 "cells": [
  {
   "cell_type": "code",
   "execution_count": 115,
   "id": "5de51d46",
   "metadata": {},
   "outputs": [
    {
     "name": "stdout",
     "output_type": "stream",
     "text": [
      "%pylab is deprecated, use %matplotlib inline and import the required libraries.\n",
      "Populating the interactive namespace from numpy and matplotlib\n"
     ]
    }
   ],
   "source": [
    "%pylab inline\n",
    "%matplotlib inline\n",
    "import numpy as np\n",
    "import matplotlib.pyplot as plt \n",
    "from scipy import stats\n",
    "import pandas as pd\n",
    "import seaborn as sns\n",
    "import statistics"
   ]
  },
  {
   "cell_type": "code",
   "execution_count": 116,
   "id": "06f7da28",
   "metadata": {},
   "outputs": [
    {
     "name": "stdout",
     "output_type": "stream",
     "text": [
      "Average weight is : 238.8\n",
      "The probability that a randomly selected man will be shorter than a randomly selected woman is  0.14835876316103025\n"
     ]
    }
   ],
   "source": [
    "#1. Examples of Normal Distribution\n",
    "\n",
    "#2. If cans are assumed to have a standard deviation of 4 g, what does the average weight need to be in order to \n",
    "#ensure that 99 % of all cans have a weight of at least 250 g?\n",
    "alpha = 0.99\n",
    "z = 2.8\n",
    "stdev = 4\n",
    "X = 250\n",
    "mean = X - (z *stdev)\n",
    "#(X - mean)/stdev = z\n",
    "print(\"Average weight is :\" ,mean)\n",
    "\n",
    "\n",
    "# 3. If the average man is 175 cm tall with a standard deviation of 6 cm, and the average woman is 168 cm tall with \n",
    "# a standard deviation of 3 cm, what is the probability that a randomly selected man will be shorter than a randomly \n",
    "# selected woman?\n",
    "nd = stats.norm(175-168, math.sqrt(3*3 + 6*6))\n",
    "x = nd.cdf(0)\n",
    "print(\"The probability that a randomly selected man will be shorter than a randomly selected woman is \" , x)\n"
   ]
  },
  {
   "cell_type": "code",
   "execution_count": 117,
   "id": "22d8e91a",
   "metadata": {},
   "outputs": [
    {
     "name": "stdout",
     "output_type": "stream",
     "text": [
      "The standard error of the mean of these data 0.0944586301263232\n"
     ]
    },
    {
     "data": {
      "image/png": "[encoded data removed]",
      "text/plain": [
       "<Figure size 640x480 with 1 Axes>"
      ]
     },
     "metadata": {},
     "output_type": "display_data"
    },
    {
     "name": "stdout",
     "output_type": "stream",
     "text": [
      "95% Confidence interval: -0.88 - 10.88\n",
      "The required SD to fulfill both requirements = 0.3039 mm\n"
     ]
    }
   ],
   "source": [
    "#4. Normal Distribution\n",
    "\n",
    "#Generate and plot the Probability Density Function (PDF) of a normal \n",
    "#distribution, with a mean of 5 and a standard deviation of 3.\n",
    "\n",
    "normal_dist = stats.norm(5,3)\n",
    "\n",
    "#Generate 1000 random data from this distribution.\n",
    "\n",
    "random_data = normal_dist.rvs(1000)\n",
    "\n",
    "#Calculate the standard error of the mean of these data.\n",
    "\n",
    "stand_error = np.std(random_data, ddof=1)/np.sqrt(1000)\n",
    "print('The standard error of the mean of these data {0}'.format(stand_error))\n",
    "\n",
    "#Plot the histogram of these data.\n",
    "\n",
    "plt.hist(random_data)\n",
    "plt.show()\n",
    "\n",
    "#From the PDF, calculate the interval containing 95% of these data.\n",
    "\n",
    "print('95% Confidence interval: {0:4.2f} - {1:4.2f}'.format(normal_dist.ppf(0.025), \n",
    "                                                            normal_dist.ppf(0.975)))\n",
    "\n",
    "# Your doctor tells you that he can use hip implants for surgery even \n",
    "# if they are 1 mm bigger or smaller than the specified size. And your \n",
    "# financial officer tells you that you can discard 1 out of 1000 hip \n",
    "# implants, and still make a profit. What is the required standard \n",
    "# deviation for the producer of the hip implants, to simultaneously \n",
    "# satisfy both requirements?\n",
    "\n",
    "\n",
    "normal_dist1 = stats.norm()\n",
    "stand_deviation = normal_dist1.isf(0.0005)\n",
    "tolerance = 1/stand_deviation\n",
    "print('The required SD to fulfill both requirements = {0:6.4f} mm'.format(tolerance))"
   ]
  },
  {
   "cell_type": "code",
   "execution_count": 118,
   "id": "7975f0ad",
   "metadata": {},
   "outputs": [],
   "source": [
    "#3. Continuous Distributions"
   ]
  },
  {
   "cell_type": "code",
   "execution_count": 119,
   "id": "24fd2d1c",
   "metadata": {},
   "outputs": [
    {
     "name": "stdout",
     "output_type": "stream",
     "text": [
      "mean +/- 99%CI = 68.0 +/- 17.2\n"
     ]
    }
   ],
   "source": [
    "# t-Distribution: Measuring the weight of your colleagues, you have \n",
    "# obtained the following weights: 52, 70, 65, 85, 62, 83, 59 kg. \n",
    "# Calculate the corresponding mean, and the 99 % confidence interval \n",
    "# for the mean. Note: with n values you have n - 1 DOF for the \n",
    "# t-distribution.\n",
    "\n",
    "\n",
    "weights = [52, 70, 65, 85, 62, 83, 59]\n",
    "t_dist = stats.t(len(weights)-1)\n",
    "alpha = 0.01\n",
    "x = abs(t_dist.ppf(alpha/2)*stats.sem(weights))\n",
    "print('mean +/- 99%CI = {0:3.1f} +/- {1:3.1f}'.format(np.mean\n",
    "(weights), x))"
   ]
  },
  {
   "cell_type": "code",
   "execution_count": 120,
   "id": "2ee2fd03",
   "metadata": {},
   "outputs": [
    {
     "data": {
      "image/png": "[encoded data removed]",
      "text/plain": [
       "<Figure size 640x480 with 1 Axes>"
      ]
     },
     "metadata": {},
     "output_type": "display_data"
    }
   ],
   "source": [
    "#Chi-square Distribution: Create three normally distributed data sets \n",
    "#(mean=0, SD=1), with 1000 samples each. Then square them, sum them \n",
    "#(so that you have 1000 data-points), and create a histogram with \n",
    "#100 bins. This should be similar to the curve for the chi-square \n",
    "#distribution, with 3 DOF (i.e., it should come down at the left, \n",
    "#see Fig. 22).\n",
    "\n",
    "normal_dist = stats.norm()\n",
    "numSamples = 1000\n",
    "set1 = normal_dist.rvs(numSamples)\n",
    "set2 = normal_dist.rvs(numSamples)\n",
    "set3 = normal_dist.rvs(numSamples)\n",
    "\n",
    "plt.hist(set1**2+set2**2 +set3**2, 100)\n",
    "plt.show()"
   ]
  },
  {
   "cell_type": "code",
   "execution_count": 121,
   "id": "ff5ed394",
   "metadata": {},
   "outputs": [
    {
     "name": "stdout",
     "output_type": "stream",
     "text": [
      "1.2227992865708155\n",
      "The standard deviation is different from two\n"
     ]
    }
   ],
   "source": [
    "# Chi-square Distribution: According to an avid aquarist, the average number of fish in a 20-gallon tank is 10, \n",
    "# with a standard deviation of two. His friend, also an aquarist, does not believe that the standard deviation is two. \n",
    "# She counts the number of fish in 15 other 20-gallon tanks. Based on the results that follow, do you think that the \n",
    "# standard deviation is different from two? \n",
    "s = \"11; 10; 9; 10; 10; 11; 11; 10; 12; 9; 7; 9; 11; 10; 11\"\n",
    "s = s.split(\";\")\n",
    "s = [int(i) for i in s]\n",
    "stdev = statistics.stdev(s)\n",
    "print(stdev)\n",
    "if stdev != 2.0 :\n",
    "    print(\"The standard deviation is different from two\")\n",
    "\n"
   ]
  },
  {
   "cell_type": "code",
   "execution_count": 122,
   "id": "0f8fbebc",
   "metadata": {},
   "outputs": [
    {
     "name": "stdout",
     "output_type": "stream",
     "text": [
      "The p-value of the F-distribution = 0.537640478466751.\n",
      "The variances are equal.\n"
     ]
    }
   ],
   "source": [
    "#F-Distribution: You have two apple trees. There are three apples \n",
    "#from the first tree that weigh 110, 121, and 143 g, respectively, \n",
    "#and four from the other which weigh 88, 93, 105, and 124 g, \n",
    "#respectively. Are the variances from the two trees different? \n",
    "#Note: calculate the corresponding F-value, and check if the CDF \n",
    "#for the corresponding F-distribution is < 0:025.\n",
    "\n",
    "tree1 = [110, 121, 143]\n",
    "tree2 = [88, 93, 105, 124]\n",
    "f_dist = np.std(tree1, ddof=1)/np.std(tree2, ddof=1)\n",
    "fd = stats.distributions.f(len(tree1),len(tree2))\n",
    "pval = fd.cdf(f_dist)\n",
    "print('The p-value of the F-distribution = {0}.'.format(pval))\n",
    "if pval>0.025 and pval<0.975:\n",
    "    print('The variances are equal.')"
   ]
  },
  {
   "cell_type": "code",
   "execution_count": 123,
   "id": "03e41af8",
   "metadata": {},
   "outputs": [],
   "source": [
    "#Exponential Distribution: The lifetime of a lightbulb (in years) \n",
    "#is a random variable from the Exponential Distribution with λ=3. \n",
    "#What is the probability that the lightbulb lasts between 1 and 5 years?\n",
    "\n",
    "llambda = 3\n",
    "mean = 1/llambda\n",
    "\n"
   ]
  },
  {
   "cell_type": "code",
   "execution_count": 124,
   "id": "91c9048d",
   "metadata": {},
   "outputs": [],
   "source": [
    "#4. Discrete Distributions"
   ]
  },
  {
   "cell_type": "code",
   "execution_count": 125,
   "id": "78f52af7",
   "metadata": {},
   "outputs": [
    {
     "name": "stdout",
     "output_type": "stream",
     "text": [
      "The chance of finding 3 students with blue eyes is  9.0%.\n",
      "The chance of finding 6 students with blue eyes is 20.1%.\n",
      "The chance of finding 10 students with blue eyes is  1.4%.\n"
     ]
    }
   ],
   "source": [
    "# Binomial Distribution: “According to research, pure blue eyes in \n",
    "# Europe approach greatest frequency in Finland, Sweden, and Norway \n",
    "# (at 72 %), followed by Estonia, Denmark (69 %); Latvia, Ireland (66 %); \n",
    "# Scotland (63 %); Lithuania (61%); The Netherlands (58%); \n",
    "# Belarus, England (55%); Germany (53%); Poland, Wales (50%); \n",
    "# Russia, The Czech Republic (48%); Slovakia (46%); Belgium (43 %); \n",
    "# Austria, Switzerland, Ukraine (37 %); France, Slovenia (34 %); \n",
    "# Hungary (28%); Croatia (26%); Bosnia and Herzegovina (24%); \n",
    "# Romania (20 %); Italy (18 %); Serbia, Bulgaria (17 %); Spain (15 %); \n",
    "# Georgia, Portugal (13 %); Albania (11 %); Turkey and Greece (10 %). \n",
    "# Further analysis shows that the average occurrence of blue eyes in \n",
    "# Europe is 34 %, with 50 % in Northern Europe and 18 % in Southern \n",
    "# Europe.” If we have 15 Austrian students in the classroom, \n",
    "# what is the chance of finding three, six, or ten students with \n",
    "# blue eyes?\n",
    "\n",
    "p = 0.37\n",
    "n = 15\n",
    "binomial_dist = stats.binom(n, p)\n",
    "\n",
    "students = [3,6,10]\n",
    "chance = binomial_dist.pmf(students)\n",
    "\n",
    "for num, solution in zip(students,chance):\n",
    "    print('The chance of finding {0} students with blue eyes is {1:4.1f}%.'.format(num, solution*100))\n"
   ]
  },
  {
   "cell_type": "code",
   "execution_count": 126,
   "id": "0e250d85",
   "metadata": {},
   "outputs": [
    {
     "name": "stdout",
     "output_type": "stream",
     "text": [
      "The chance of haveing 0 fatal accidents in one week is 30.5%.\n",
      "The chance of haveing 2 fatal accidents in one week is 21.5%.\n",
      "The chance of haveing 5 fatal accidents in one week is  0.6%.\n"
     ]
    }
   ],
   "source": [
    "# Poisson Distribution: In 2012 there were 62 fatal accidents on \n",
    "# streets in Austria. Assuming that those are evenly distributed, \n",
    "# we have on average 62/(365/7)= 1.19 fatal accidents per week. \n",
    "# How big is the chance that in a given week there are no, two, \n",
    "# or five accidents?\n",
    "\n",
    "p = 62./(365./7)\n",
    "poisson_dist = stats.poisson(p)\n",
    "\n",
    "accidents = [0,2,5]\n",
    "chance = poisson_dist.pmf(accidents)*100\n",
    "\n",
    "for num, solution in zip(accidents, chance):\n",
    "    print('The chance of haveing {0} fatal accidents in one week is {1:4.1f}%.'.format(num,solution))"
   ]
  }
 ],
 "metadata": {
  "kernelspec": {
   "display_name": "Python 3 (ipykernel)",
   "language": "python",
   "name": "python3"
  },
  "language_info": {
   "codemirror_mode": {
    "name": "ipython",
    "version": 3
   },
   "file_extension": ".py",
   "mimetype": "text/x-python",
   "name": "python",
   "nbconvert_exporter": "python",
   "pygments_lexer": "ipython3",
   "version": "3.9.13"
  }
 },
 "nbformat": 4,
 "nbformat_minor": 5
}

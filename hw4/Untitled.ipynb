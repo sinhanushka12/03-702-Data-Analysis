{
 "cells": [
  {
   "cell_type": "code",
   "execution_count": 79,
   "id": "847b4c60",
   "metadata": {},
   "outputs": [],
   "source": [
    "import csv\n",
    "import pandas\n",
    "import numpy as np\n",
    "from scipy import stats\n",
    "import statsmodels.api as sm\n",
    "from statsmodels.formula.api import ols \n",
    "from statsmodels.stats.anova import anova_lm\n",
    "import itertools"
   ]
  },
  {
   "cell_type": "markdown",
   "id": "c6eae2c6",
   "metadata": {},
   "source": [
    "# 1. Show the equivalence of t-test and F-test for comparing two groups\n",
    "\n",
    "Load data from “galton.csv”\n",
    "\n",
    "Calculate the t and F values and compare t2 and F.\n",
    "\n",
    "Compare p values from both tests."
   ]
  },
  {
   "cell_type": "code",
   "execution_count": 46,
   "id": "112767e7",
   "metadata": {},
   "outputs": [],
   "source": [
    "#Load data from \"galton.csv\"\n",
    "\n",
    "data1 = pandas.read_csv(\"galton.csv\")\n",
    "data2 = pandas.read_csv(\"galton.csv\")\n",
    "\n",
    "df1 = data1[\"father\"].to_numpy()\n",
    "df2 = data1[\"mother\"].to_numpy()\n"
   ]
  },
  {
   "cell_type": "code",
   "execution_count": 47,
   "id": "9f46aa07",
   "metadata": {},
   "outputs": [
    {
     "name": "stdout",
     "output_type": "stream",
     "text": [
      "1.443197963131157e-302\n",
      "With the T-test, data1 and data2 are significantly different (p = 0.000)\n"
     ]
    }
   ],
   "source": [
    "#Calculate the t and F values and compare t2 and F.\n",
    "\n",
    "#running a t-test\n",
    "t, pval = stats.ttest_ind(df1, df2)\n",
    "print(pval)\n",
    "if pval < 0.05:\n",
    "    print('With the T-test, data1 and data2 are significantly different (p = {0:5.3f})'.format(pval))\n",
    "else:\n",
    "    print('No difference between data1 and data2 with T-test.')"
   ]
  },
  {
   "cell_type": "code",
   "execution_count": 48,
   "id": "51fa3f98",
   "metadata": {},
   "outputs": [
    {
     "name": "stdout",
     "output_type": "stream",
     "text": [
      "1.4431979631307123e-302\n",
      "With the F-test, data1 and data2 are significantly different (p = 0.000)\n"
     ]
    }
   ],
   "source": [
    "#running a F-test\n",
    "F_statistic, pVal = stats.f_oneway(df1, df2)\n",
    "print(pVal)\n",
    "if pVal < 0.05:\n",
    "    print('With the F-test, data1 and data2 are significantly different (p = {0:5.3f})'.format(pval))\n",
    "else:\n",
    "    print('No difference between data1 and data2 with T-test.')"
   ]
  },
  {
   "cell_type": "code",
   "execution_count": 57,
   "id": "e0f89920",
   "metadata": {},
   "outputs": [
    {
     "name": "stdout",
     "output_type": "stream",
     "text": [
      "\n",
      "T^2 == F: ------------------------------------------\n",
      "From the t-test we get t^2=2083.481, and from the F-test F=2083.481\n"
     ]
    }
   ],
   "source": [
    "#comparing t2 and F\n",
    "print('\\nT^2 == F: ------------------------------------------')\n",
    "print(f'From the t-test we get t^2={t**2:5.3f}, ' +\n",
    "          f'and from the F-test F={F_statistic:5.3f}')"
   ]
  },
  {
   "cell_type": "code",
   "execution_count": 56,
   "id": "6702437c",
   "metadata": {},
   "outputs": [
    {
     "name": "stdout",
     "output_type": "stream",
     "text": [
      "The p-values from the t-test and F-test are different but very similar with ratio 1.0000000000003082\n"
     ]
    }
   ],
   "source": [
    "#Comparing p-values from both tests\n",
    "if pval == pVal:\n",
    "    print('The p-values from the t-test and F-test are the same')\n",
    "else:\n",
    "    ratio = pval/pVal\n",
    "    print(f'The p-values from the t-test and F-test are different but very similar with ratio %s'%ratio)"
   ]
  },
  {
   "cell_type": "markdown",
   "id": "2d90e45b",
   "metadata": {},
   "source": [
    "# 2. Calculate Sums of squares (SS) and degrees of freedom (DF)\n",
    "\n",
    "# Data:\n",
    "\n",
    "Group1: [3, 2, 1]\n",
    "\n",
    "Group2: [5, 3, 4]\n",
    "\n",
    "Group3: [5, 6, 7]\n",
    "\n",
    "\n",
    "# Calculate Sums of squares (SS)\n",
    "\n",
    "SStotal\n",
    "\n",
    "SSwithin groups (Note: same as SSError in the textbook)\n",
    "\n",
    "SSbetween groups (Note: same as SSTreatment in the textbook)\n",
    "\n",
    "Show that SStotal = SSwithin groups + SSbetween groups\n",
    "\n",
    "# Calculate Degrees of Freedom\n",
    "\n",
    "DFtotal\n",
    "\n",
    "DFwithin groups (Note: same as DFError in the textbook)\n",
    "\n",
    "DFbetween groups (Note: same as DFTreatment in the textbook)\n",
    "\n",
    "Show that DFtotal = DFwithin groups + DFbetween groups\n"
   ]
  },
  {
   "cell_type": "code",
   "execution_count": 62,
   "id": "46c14ce4",
   "metadata": {},
   "outputs": [
    {
     "data": {
      "text/html": [
       "<div>\n",
       "<style scoped>\n",
       "    .dataframe tbody tr th:only-of-type {\n",
       "        vertical-align: middle;\n",
       "    }\n",
       "\n",
       "    .dataframe tbody tr th {\n",
       "        vertical-align: top;\n",
       "    }\n",
       "\n",
       "    .dataframe thead th {\n",
       "        text-align: right;\n",
       "    }\n",
       "</style>\n",
       "<table border=\"1\" class=\"dataframe\">\n",
       "  <thead>\n",
       "    <tr style=\"text-align: right;\">\n",
       "      <th></th>\n",
       "      <th>Group1</th>\n",
       "      <th>Group2</th>\n",
       "      <th>Group3</th>\n",
       "    </tr>\n",
       "  </thead>\n",
       "  <tbody>\n",
       "    <tr>\n",
       "      <th>0</th>\n",
       "      <td>3</td>\n",
       "      <td>5</td>\n",
       "      <td>5</td>\n",
       "    </tr>\n",
       "    <tr>\n",
       "      <th>1</th>\n",
       "      <td>2</td>\n",
       "      <td>3</td>\n",
       "      <td>6</td>\n",
       "    </tr>\n",
       "    <tr>\n",
       "      <th>2</th>\n",
       "      <td>1</td>\n",
       "      <td>4</td>\n",
       "      <td>7</td>\n",
       "    </tr>\n",
       "  </tbody>\n",
       "</table>\n",
       "</div>"
      ],
      "text/plain": [
       "   Group1  Group2  Group3\n",
       "0       3       5       5\n",
       "1       2       3       6\n",
       "2       1       4       7"
      ]
     },
     "execution_count": 62,
     "metadata": {},
     "output_type": "execute_result"
    }
   ],
   "source": [
    "#load data\n",
    "Group1 = [3, 2, 1]\n",
    "Group2 = [5, 3, 4]\n",
    "Group3 = [5, 6, 7]\n",
    "\n",
    "#df = pandas.DataFrame({'Group1': [3, 2, 1], 'Group2':[5, 3, 4], 'Group3': [5, 6, 7]})"
   ]
  },
  {
   "cell_type": "code",
   "execution_count": 103,
   "id": "444d26e9",
   "metadata": {},
   "outputs": [
    {
     "name": "stdout",
     "output_type": "stream",
     "text": [
      "30.0\n"
     ]
    }
   ],
   "source": [
    "#SStotal\n",
    "\n",
    "sum1 = 0\n",
    "for i in range(0, len(Group1)):\n",
    "    sum1 = sum1 + Group1[i]\n",
    "\n",
    "sum2 = 0 \n",
    "for i in range(0, len(Group2)):\n",
    "    sum2 = sum2 + Group2[i]\n",
    "  \n",
    "sum3 = 0 \n",
    "for i in range(0, len(Group3)):\n",
    "    sum3 = sum3 + Group3[i]\n",
    "\n",
    "grandMean = (sum1 + sum2 + sum3)/(len(Group1) + len(Group2) + len(Group3))\n",
    "\n",
    "SStotal = ((Group1[0] - grandMean)**2)+((Group1[1] - grandMean)**2)+((Group1[2] - grandMean)**2)+((Group2[0] - grandMean)**2)+((Group2[1] - grandMean)**2)+((Group2[2] - grandMean)**2)+((Group3[0] - grandMean)**2)+((Group3[1] - grandMean)**2)+((Group3[2] - grandMean)**2)\n",
    "print(SStotal)"
   ]
  },
  {
   "cell_type": "code",
   "execution_count": 97,
   "id": "a74f10c1",
   "metadata": {},
   "outputs": [
    {
     "name": "stdout",
     "output_type": "stream",
     "text": [
      "6.0\n"
     ]
    }
   ],
   "source": [
    "#SSwithin groups\n",
    "\n",
    "mean1 = sum1/len(Group1)\n",
    "mean2 = sum2/len(Group2)\n",
    "mean3 = sum3/len(Group3)\n",
    "\n",
    "SSwithin = ((Group1[0] - mean1)**2)+((Group1[1] - mean1)**2)+((Group1[2] - mean1)**2)+((Group2[0] - mean2)**2)+((Group2[1] - mean2)**2)+((Group2[2] - mean2)**2)+((Group3[0] - mean3)**2)+((Group3[1] - mean3)**2)+((Group3[2] - mean3)**2)\n",
    "print(SSwithin)\n"
   ]
  },
  {
   "cell_type": "code",
   "execution_count": 99,
   "id": "52957463",
   "metadata": {},
   "outputs": [
    {
     "name": "stdout",
     "output_type": "stream",
     "text": [
      "24.0\n"
     ]
    }
   ],
   "source": [
    "#SSbetween groups\n",
    "\n",
    "SSbetween = len(Group1)*((mean1-grandMean)**2) + len(Group2)*((mean2-grandMean)**2) + len(Group3)*((mean3-grandMean)**2)\n",
    "print(SSbetween)"
   ]
  },
  {
   "cell_type": "code",
   "execution_count": 104,
   "id": "c74e29f0",
   "metadata": {},
   "outputs": [
    {
     "name": "stdout",
     "output_type": "stream",
     "text": [
      "The sum of SSwithin and SSbetween is: 30.0\n",
      "The sum of SSwithin and SSbetween is equal to SStotal\n"
     ]
    }
   ],
   "source": [
    "#SStotal = SSwithin groups + SSbetween groups\n",
    "print(\"The sum of SSwithin and SSbetween is:\", SSwithin + SSbetween)\n",
    "\n",
    "anotherSum = SSwithin + SSbetween\n",
    "if anotherSum == SStotal:\n",
    "    print('The sum of SSwithin and SSbetween is equal to SStotal')"
   ]
  },
  {
   "cell_type": "code",
   "execution_count": 107,
   "id": "cad9728a",
   "metadata": {},
   "outputs": [
    {
     "name": "stdout",
     "output_type": "stream",
     "text": [
      "8\n"
     ]
    }
   ],
   "source": [
    "#DFtotal \n",
    "\n",
    "m = 3\n",
    "n = 3\n",
    "DFtotal = (m*n)-1\n",
    "print(DFtotal)"
   ]
  },
  {
   "cell_type": "code",
   "execution_count": 108,
   "id": "8828db30",
   "metadata": {},
   "outputs": [
    {
     "name": "stdout",
     "output_type": "stream",
     "text": [
      "6\n"
     ]
    }
   ],
   "source": [
    "#DFwithin groups\n",
    "\n",
    "DFwithin = m*(n-1)\n",
    "print(DFwithin)"
   ]
  },
  {
   "cell_type": "code",
   "execution_count": 109,
   "id": "33cfb2f9",
   "metadata": {},
   "outputs": [
    {
     "name": "stdout",
     "output_type": "stream",
     "text": [
      "2\n"
     ]
    }
   ],
   "source": [
    "#DFbetween groups\n",
    "\n",
    "DFbetween = n-1\n",
    "print(DFbetween)"
   ]
  },
  {
   "cell_type": "code",
   "execution_count": 111,
   "id": "3ae5eab6",
   "metadata": {},
   "outputs": [
    {
     "name": "stdout",
     "output_type": "stream",
     "text": [
      "The sum of DFwithin and DFbetween is: 8\n",
      "The sum of DFwithin and DFbetween is equal to DFtotal\n"
     ]
    }
   ],
   "source": [
    "#DFtotal = DFwithin groups + DFbetween groups\n",
    "\n",
    "print(\"The sum of DFwithin and DFbetween is:\", DFwithin + DFbetween)\n",
    "\n",
    "anotherSum1 = DFwithin + DFbetween\n",
    "if anotherSum1 == DFtotal:\n",
    "    print('The sum of DFwithin and DFbetween is equal to DFtotal')"
   ]
  },
  {
   "cell_type": "code",
   "execution_count": null,
   "id": "ca29cc6a",
   "metadata": {},
   "outputs": [],
   "source": []
  }
 ],
 "metadata": {
  "kernelspec": {
   "display_name": "Python 3 (ipykernel)",
   "language": "python",
   "name": "python3"
  },
  "language_info": {
   "codemirror_mode": {
    "name": "ipython",
    "version": 3
   },
   "file_extension": ".py",
   "mimetype": "text/x-python",
   "name": "python",
   "nbconvert_exporter": "python",
   "pygments_lexer": "ipython3",
   "version": "3.9.13"
  }
 },
 "nbformat": 4,
 "nbformat_minor": 5
}

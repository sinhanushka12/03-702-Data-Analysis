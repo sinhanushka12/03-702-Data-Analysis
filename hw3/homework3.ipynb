{
 "cells": [
  {
   "cell_type": "code",
   "execution_count": 2,
   "metadata": {},
   "outputs": [],
   "source": [
    "#standard modules\n",
    "import numpy as np\n",
    "import matplotlib.pyplot as plt \n",
    "from scipy import stats\n",
    "import scipy as sp\n",
    "import os\n",
    "import pandas as pd\n",
    "\n",
    "# Modules for data-analysis\n",
    "from statsmodels.formula.api import ols \n",
    "from statsmodels.stats.anova import anova_lm \n",
    "from statsmodels.stats import multicomp\n",
    "\n",
    "# Module for working with Excel-files\n",
    "import xlrd"
   ]
  },
  {
   "cell_type": "markdown",
   "metadata": {},
   "source": [
    "# 1. One or Two groups "
   ]
  },
  {
   "cell_type": "markdown",
   "metadata": {},
   "source": [
    "# Paired t-Test and Wilcoxon signed rank sum test\n",
    "\n",
    "The daily energy intake from 11 healthy women is [5260., 5470., 5640., 6180., 6390., 6515., 6805., 7515., 7515., 8230., 8770.] kJ. \n",
    "\n",
    "Is this value significantly different from the recommended value of 7725?"
   ]
  },
  {
   "cell_type": "code",
   "execution_count": 3,
   "metadata": {},
   "outputs": [
    {
     "name": "stdout",
     "output_type": "stream",
     "text": [
      "Data are distributed normally, p = 0.6813132824061632\n",
      "With the one-sample t-test, 7725.00 is significantly different from the mean (p=0.018) .\n",
      "With the Wilcoxon test, 7725.00 is significantly different from the mean (p=0.024) .\n"
     ]
    },
    {
     "name": "stderr",
     "output_type": "stream",
     "text": [
      "/Users/sinhanushka_/opt/anaconda3/lib/python3.9/site-packages/scipy/stats/_stats_py.py:1772: UserWarning: kurtosistest only valid for n>=20 ... continuing anyway, n=11\n",
      "  warnings.warn(\"kurtosistest only valid for n>=20 ... continuing \"\n"
     ]
    }
   ],
   "source": [
    "def OneGroup():\n",
    "\n",
    "    #loading the data\n",
    "\n",
    "    data = np.array([5260, 5470, 5640, 6180, 6390, 6515, 6805, 7515, 7515, 8230, 8770], dtype=float) \n",
    "    compareValue = 7725 #recommended value to compare to\n",
    "\n",
    "    #running a normality test\n",
    "    (_, p) = stats.normaltest(data) \n",
    "    if p > 0.05:\n",
    "        print('Data are distributed normally, p = {0}'.format (p))\n",
    "    \n",
    "    #running one sample t-test\n",
    "    t, prob = stats.ttest_1samp(data, compareValue) \n",
    "    if prob < 0.05:\n",
    "        print('With the one-sample t-test, {0:4.2f} is significantly different from the mean (p={1:5.3f}) .'.\\\n",
    "              format(compareValue, prob)) \n",
    "    else:\n",
    "        print('No difference from reference value with onesample t-test.')\n",
    "    \n",
    "    #running wilcoxon test\n",
    "    (_,p) = stats.wilcoxon(data-compareValue) \n",
    "    if p < 0.05:\n",
    "        print('With the Wilcoxon test, {0:4.2f} is significantly different from the mean (p={1:5.3f}) .'.\\\n",
    "                format(compareValue, p))\n",
    "    else:\n",
    "        print('No difference from reference value with Wilcoxon rank sum test.')\n",
    "\n",
    "               \n",
    "OneGroup()\n",
    "    "
   ]
  },
  {
   "cell_type": "markdown",
   "metadata": {},
   "source": [
    "# t-Test of independent samples\n",
    "\n",
    "In a clinic, 15 lazy patients weigh [76, 101, 66, 72, 88, 82, 79, 73, 76, 85, 75, 64, 76, 81, 86] kg, and 15 sporty patients weigh [ 64, 65, 56, 62, 59, 76, 66, 82, 91, 57, 92, 80, 82, 67, 54] kg.\n",
    "\n",
    "Are the lazy patients significantly heavier?\n",
    "\n",
    "# Normality test\n",
    "\n",
    "Are the two data sets normally distributed?\n",
    "\n",
    "\n",
    "# Mann–Whitney test\n",
    "\n",
    "Are the lazy patients still heavier, if you check with the Mann–Whitney test?"
   ]
  },
  {
   "cell_type": "code",
   "execution_count": 4,
   "metadata": {},
   "outputs": [
    {
     "name": "stdout",
     "output_type": "stream",
     "text": [
      "Dataset # 0 is normally distributed\n",
      "Dataset # 1 is normally distributed\n",
      "With the T-test, lazyPatients and sportyPatients are significantly different (p = 0.045)\n",
      "No difference between data0 and data1 with Mann-Whitney test.\n"
     ]
    },
    {
     "name": "stderr",
     "output_type": "stream",
     "text": [
      "/Users/sinhanushka_/opt/anaconda3/lib/python3.9/site-packages/scipy/stats/_stats_py.py:1772: UserWarning: kurtosistest only valid for n>=20 ... continuing anyway, n=15\n",
      "  warnings.warn(\"kurtosistest only valid for n>=20 ... continuing \"\n"
     ]
    }
   ],
   "source": [
    "def TwoGroups():\n",
    "    \n",
    "    #loading the data\n",
    "    \n",
    "    data0 = [76., 101., 66., 72., 88., 82., 79., 73., 76., 85., 75., 64., 76., 81., 86.]\n",
    "    data1 = [64., 65., 56., 62., 59., 76., 66., 82., 91., 57., 92., 80., 82., 67., 54.]\n",
    "\n",
    "    \n",
    "     #running a normality test\n",
    "        \n",
    "    for ii, data in enumerate((data0, data1)): \n",
    "        (_, pval) = stats.normaltest(data)\n",
    "        if pval > 0.05:\n",
    "            print('Dataset # {0} is normally distributed'. format(ii))\n",
    "            \n",
    "    #t-test of independent samples\n",
    "    \n",
    "    t, pval = stats.ttest_ind(data0, data1) \n",
    "    if pval < 0.05:\n",
    "        print('With the T-test, lazyPatients and sportyPatients are significantly different (p = {0:5.3f})'.format( pval))\n",
    "    else:\n",
    "        print('No difference between lazyPatients and sportyPatients with T-test.')\n",
    "\n",
    "        \n",
    "    #Mann-whitney test\n",
    "    \n",
    "    if int(sp.__version__.split('.')[1]) > 16: \n",
    "        u, pval = stats.mannwhitneyu(data0, data1, alternative='two-sided')\n",
    "    else:\n",
    "        u, pval = stats.mannwhitneyu(data0, data1)\n",
    "        pval *= 2 # because the default was a one-sided p-value\n",
    "\n",
    "    if pval < 0.05:\n",
    "        print('With the Mann-Whitney test, data0 and data1 are significantly different(p = {0:5.3f})'.format( pval))\n",
    "    else:\n",
    "        print('No difference between data0 and data1 with Mann-Whitney test.')\n",
    "        \n",
    "TwoGroups()"
   ]
  },
  {
   "cell_type": "markdown",
   "metadata": {},
   "source": [
    "# 2. Multiple Groups\n"
   ]
  },
  {
   "cell_type": "markdown",
   "metadata": {},
   "source": [
    "Get the data\n",
    "\n",
    "The file “statsintro_python-master/ipynb/Data/data_others /Table 6.6 Plant experiment.xls”, contains data from an experiment with plants in three different growing conditions. \n",
    "\n",
    "Read the data into Python. Hint: use the module xlrd.\n"
   ]
  },
  {
   "cell_type": "markdown",
   "metadata": {},
   "source": [
    "# Perform an ANOVA\n",
    "Are the three groups different?\n",
    "\n",
    "# Multiple Comparisons\n",
    "Using the Tukey test, which of the pairs are different?\n",
    "\n",
    "# Kruskal–Wallis\n",
    "Would a nonparametric comparison lead to a different result?"
   ]
  },
  {
   "cell_type": "code",
   "execution_count": 5,
   "metadata": {},
   "outputs": [
    {
     "name": "stdout",
     "output_type": "stream",
     "text": [
      "            df    sum_sq   mean_sq         F   PR(>F)\n",
      "C(group)   2.0   3.76634  1.883170  4.846088  0.01591\n",
      "Residual  27.0  10.49209  0.388596       NaN      NaN\n",
      "One of the groups is different.\n",
      "<statsmodels.sandbox.stats.multicomp.MultiComparison object at 0x16dfae430>\n",
      "    Multiple Comparison of Means - Tukey HSD, FWER=0.05    \n",
      "===========================================================\n",
      "  group1     group2   meandiff p-adj   lower  upper  reject\n",
      "-----------------------------------------------------------\n",
      "   Control TreatmentA   -0.371 0.3909 -1.0622 0.3202  False\n",
      "   Control TreatmentB    0.494  0.198 -0.1972 1.1852  False\n",
      "TreatmentA TreatmentB    0.865  0.012  0.1738 1.5562   True\n",
      "-----------------------------------------------------------\n",
      "['Control' 'TreatmentA' 'TreatmentB']\n"
     ]
    },
    {
     "data": {
      "image/png": "[encoded data removed]",
      "text/plain": [
       "<Figure size 640x480 with 1 Axes>"
      ]
     },
     "metadata": {},
     "output_type": "display_data"
    },
    {
     "name": "stdout",
     "output_type": "stream",
     "text": [
      "Result from Kruskal-Wallis test: p = 0.018423755731471966\n",
      "Result from Kruskal-Wallis test indicates that a nonparametric comparison would not lead to a different result\n"
     ]
    }
   ],
   "source": [
    "#Loading the ANOVA data\n",
    "def get_ANOVA_data():\n",
    "    \n",
    "    #opening the file using the module xlrd\n",
    "    inFile = 'Table 6.6 Plant experiment.xls'\n",
    "    book = xlrd.open_workbook(inFile)\n",
    "    \n",
    "    #assuming that the data is in the first sheet\n",
    "    \n",
    "    sheet = book.sheet_by_index(0)\n",
    "    \n",
    "    #treatment information is in column E\n",
    "    #weight information is in column F\n",
    "    \n",
    "    treatment = sheet.col_values(4) \n",
    "    weight = sheet.col_values(5)\n",
    "    \n",
    "    #need to skip the first three lines since the useful information starts on line 4\n",
    "    #can use a pandas dataframe\n",
    "    \n",
    "    data = pd.DataFrame({'group':treatment[3:], 'weight': weight[3:]})\n",
    "    \n",
    "    return data\n",
    "\n",
    "#running the ANOVA test\n",
    "def do_ANOVA(data):\n",
    "    \n",
    "    #applying the \"ordinary least square (ols)\" model on the data\n",
    "    model = ols('weight ~ C(group)', data).fit()\n",
    "    \n",
    "    #\"anova_lm\" (where \"lm\" stands for \"linear model\") extracts the ANOVA-parameters from the fitted model.\n",
    "\n",
    "    anovaResults = anova_lm(model) \n",
    "    print(anovaResults)\n",
    "    \n",
    "    if anovaResults['PR(>F)'][0] < 0.05:\n",
    "        print('One of the groups is different.')\n",
    "\n",
    "#running multiple comparisons  \n",
    "def compare_many(data):\n",
    "    \n",
    "    mc = multicomp.MultiComparison(data['weight'], data['group'])\n",
    "    print(mc)\n",
    "    print(mc.tukeyhsd().summary())\n",
    "    \n",
    "    print(mc.groupsunique)\n",
    "    \n",
    "    res2 = mc.tukeyhsd()\n",
    "    \n",
    "    simple = False\n",
    "    if simple:\n",
    "        res2.plot_simultaneous()\n",
    "        \n",
    "    else:\n",
    "        xvals = np.arange(3)\n",
    "        plt.plot(xvals, res2.meandiffs, 'o')\n",
    "        errors = np.ravel(np.diff(res2.confint)/2) \n",
    "        plt.errorbar(xvals, res2.meandiffs, yerr=errors, fmt= 'o')\n",
    "\n",
    "        xlim = -0.3, 2.2\n",
    "        plt.hlines(0, *xlim)\n",
    "        plt.xlim(*xlim)\n",
    "        \n",
    "        pair_labels = mc.groupsunique[np.column_stack(res2. _multicomp.pairindices)]\n",
    "        pairs = pair_labels.tolist()\n",
    "        plt.xticks(xvals, pairs)\n",
    "        plt.title('Multiple Comparison of Means - Tukey HSD, FWER=0.05' +'\\n Pairwise Mean Differences') \n",
    "    \n",
    "    plt.show()\n",
    "    \n",
    "    \n",
    "def KruskalWallis(data):\n",
    "    g_a = data['weight'][data['group']=='TreatmentA'] \n",
    "    g_b = data['weight'][data['group']=='TreatmentB'] \n",
    "    g_c = data['weight'][data['group']=='Control']\n",
    "    \n",
    "    \n",
    "    h, p = stats.kruskal(g_c, g_a, g_b)\n",
    "    print('Result from Kruskal-Wallis test: p = {0}'.format(p))\n",
    "    print('Result from Kruskal-Wallis test indicates that a nonparametric comparison would not lead to a different result')\n",
    "get_ANOVA_data()\n",
    "do_ANOVA(get_ANOVA_data())\n",
    "compare_many(get_ANOVA_data())\n",
    "KruskalWallis(get_ANOVA_data())"
   ]
  }
 ],
 "metadata": {
  "kernelspec": {
   "display_name": "Python 3 (ipykernel)",
   "language": "python",
   "name": "python3"
  },
  "language_info": {
   "codemirror_mode": {
    "name": "ipython",
    "version": 3
   },
   "file_extension": ".py",
   "mimetype": "text/x-python",
   "name": "python",
   "nbconvert_exporter": "python",
   "pygments_lexer": "ipython3",
   "version": "3.9.13"
  },
  "vscode": {
   "interpreter": {
    "hash": "aee8b7b246df8f9039afb4144a1f6fd8d2ca17a180786b69acc140d282b71a49"
   }
  }
 },
 "nbformat": 4,
 "nbformat_minor": 2
}
